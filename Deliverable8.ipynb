{
  "nbformat": 4,
  "nbformat_minor": 0,
  "metadata": {
    "colab": {
      "provenance": []
    },
    "kernelspec": {
      "name": "python3",
      "display_name": "Python 3"
    },
    "language_info": {
      "name": "python"
    }
  },
  "cells": [
    {
      "cell_type": "code",
      "source": [
        "import numpy as np"
      ],
      "metadata": {
        "id": "iQmVUotPoXcI"
      },
      "execution_count": 48,
      "outputs": []
    },
    {
      "cell_type": "code",
      "source": [
        "def random_list(size):\n",
        "  list = []\n",
        "  for i in range(size):\n",
        "    list.append(np.random.randint(10,50))\n",
        "  return list\n",
        "\n",
        "def sum_random (list):\n",
        "  sum = 0\n",
        "  for i in range(len(list)):\n",
        "    sum = sum + list[i]\n",
        "  return sum"
      ],
      "metadata": {
        "id": "oLLZ_7K5o2vG"
      },
      "execution_count": 49,
      "outputs": []
    },
    {
      "cell_type": "code",
      "source": [
        "n = int(input(\"Enter an integer between 5 & 15: \"))\n",
        "if n < 5 or n >15:\n",
        "  (print(\"This integer is not between 5 & 15, please try again.\"))\n",
        "else:\n",
        "  MyList = random_list(n)\n",
        "  (print(\"The elements of my array are: \")) \n",
        "  (print(MyList))\n",
        "  MySum = sum_random(MyList)\n",
        "  (print(\"The sum is: \")) \n",
        "  (print(MySum))"
      ],
      "metadata": {
        "colab": {
          "base_uri": "https://localhost:8080/"
        },
        "id": "JlcS0TEQqEY_",
        "outputId": "afad9d15-d7b7-4db8-c706-1cc384035103"
      },
      "execution_count": 80,
      "outputs": [
        {
          "output_type": "stream",
          "name": "stdout",
          "text": [
            "Enter an integer between 5 & 15: 10\n",
            "The elements of my array are: \n",
            "[26, 24, 41, 48, 32, 16, 27, 15, 14, 36]\n",
            "The sum is: \n",
            "279\n"
          ]
        }
      ]
    }
  ]
}